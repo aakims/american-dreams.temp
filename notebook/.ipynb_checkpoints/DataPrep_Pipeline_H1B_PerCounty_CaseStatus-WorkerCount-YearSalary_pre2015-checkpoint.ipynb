{
 "cells": [
  {
   "cell_type": "code",
   "execution_count": 1,
   "metadata": {},
   "outputs": [],
   "source": [
    "import pandas as pd\n",
    "import numpy as np"
   ]
  },
  {
   "cell_type": "code",
   "execution_count": 2,
   "metadata": {},
   "outputs": [],
   "source": [
    "data14 = pd.read_excel(\"../h1b/H-1B_Disclosure_Data_FY14.xlsx\", dtype={'NAICS_CODE':str, 'NAIC_CODE':str})\n",
    "data13 = pd.read_excel(\"../h1b/H-1B_Disclosure_Data_FY13.xlsx\", dtype={'NAICS_CODE':str, 'NAIC_CODE':str})\n",
    "\n",
    "# H-1B_Disclosure_Data_FY17.xlsx\n",
    "# H-1B_Disclosure_Data_FY16.xlsx\n",
    "# H-1B_Disclosure_Data_FY15.xlsx\n",
    "# H-1B_Disclosure_Data_FY14.xlsx\n",
    "# H-1B_Disclosure_Data_FY13.xlsx\n",
    "# H-1B_Disclosure_Data_FY12.xlsx\n",
    "# H-1B_Disclosure_Data_FY11.xlsx\n",
    "# H-1B_Disclosure_Data_FY10.xlsx\n",
    "# H-1B_Disclosure_Data_FY09.xlsx\n",
    "# H-1B_Disclosure_Data_FY08.xlsx\n",
    "#https://www.foreignlaborcert.doleta.gov/performancedata.cfm"
   ]
  },
  {
   "cell_type": "code",
   "execution_count": 3,
   "metadata": {},
   "outputs": [
    {
     "data": {
      "text/plain": [
       "Index(['LCA_CASE_NUMBER', 'STATUS', 'LCA_CASE_SUBMIT', 'DECISION_DATE',\n",
       "       'VISA_CLASS', 'LCA_CASE_EMPLOYMENT_START_DATE',\n",
       "       'LCA_CASE_EMPLOYMENT_END_DATE', 'LCA_CASE_EMPLOYER_NAME',\n",
       "       'LCA_CASE_EMPLOYER_ADDRESS', 'LCA_CASE_EMPLOYER_CITY',\n",
       "       'LCA_CASE_EMPLOYER_STATE', 'LCA_CASE_EMPLOYER_POSTAL_CODE',\n",
       "       'LCA_CASE_SOC_CODE', 'LCA_CASE_SOC_NAME', 'LCA_CASE_JOB_TITLE',\n",
       "       'LCA_CASE_WAGE_RATE_FROM', 'LCA_CASE_WAGE_RATE_TO',\n",
       "       'LCA_CASE_WAGE_RATE_UNIT', 'FULL_TIME_POS', 'TOTAL_WORKERS',\n",
       "       'LCA_CASE_WORKLOC1_CITY', 'LCA_CASE_WORKLOC1_STATE', 'PW_1',\n",
       "       'PW_UNIT_1', 'PW_SOURCE_1', 'OTHER_WAGE_SOURCE_1', 'YR_SOURCE_PUB_1',\n",
       "       'LCA_CASE_WORKLOC2_CITY', 'LCA_CASE_WORKLOC2_STATE', 'PW_2',\n",
       "       'PW_UNIT_2', 'PW_SOURCE_2', 'OTHER_WAGE_SOURCE_2', 'YR_SOURCE_PUB_2',\n",
       "       'LCA_CASE_NAICS_CODE'],\n",
       "      dtype='object')"
      ]
     },
     "execution_count": 3,
     "metadata": {},
     "output_type": "execute_result"
    }
   ],
   "source": [
    "data14.columns"
   ]
  },
  {
   "cell_type": "code",
   "execution_count": 6,
   "metadata": {},
   "outputs": [],
   "source": [
    "vdata = data14"
   ]
  },
  {
   "cell_type": "code",
   "execution_count": 21,
   "metadata": {},
   "outputs": [
    {
     "data": {
      "text/html": [
       "<div>\n",
       "<style scoped>\n",
       "    .dataframe tbody tr th:only-of-type {\n",
       "        vertical-align: middle;\n",
       "    }\n",
       "\n",
       "    .dataframe tbody tr th {\n",
       "        vertical-align: top;\n",
       "    }\n",
       "\n",
       "    .dataframe thead th {\n",
       "        text-align: right;\n",
       "    }\n",
       "</style>\n",
       "<table border=\"1\" class=\"dataframe\">\n",
       "  <thead>\n",
       "    <tr style=\"text-align: right;\">\n",
       "      <th></th>\n",
       "      <th>zip</th>\n",
       "      <th>county</th>\n",
       "    </tr>\n",
       "  </thead>\n",
       "  <tbody>\n",
       "    <tr>\n",
       "      <th>0</th>\n",
       "      <td>06010</td>\n",
       "      <td>09003</td>\n",
       "    </tr>\n",
       "    <tr>\n",
       "      <th>1</th>\n",
       "      <td>06013</td>\n",
       "      <td>09003</td>\n",
       "    </tr>\n",
       "    <tr>\n",
       "      <th>2</th>\n",
       "      <td>06033</td>\n",
       "      <td>09003</td>\n",
       "    </tr>\n",
       "    <tr>\n",
       "      <th>3</th>\n",
       "      <td>06037</td>\n",
       "      <td>09003</td>\n",
       "    </tr>\n",
       "    <tr>\n",
       "      <th>4</th>\n",
       "      <td>06040</td>\n",
       "      <td>09003</td>\n",
       "    </tr>\n",
       "  </tbody>\n",
       "</table>\n",
       "</div>"
      ],
      "text/plain": [
       "     zip county\n",
       "0  06010  09003\n",
       "1  06013  09003\n",
       "2  06033  09003\n",
       "3  06037  09003\n",
       "4  06040  09003"
      ]
     },
     "execution_count": 21,
     "metadata": {},
     "output_type": "execute_result"
    }
   ],
   "source": [
    "zip_county = pd.read_excel(\"../cross-walk/ZIP_COUNTY_122017.xlsx\", dtype={'zip': str, 'county': str})\n",
    "georefz = zip_county[['zip', 'county']]\n",
    "georefz.head()"
   ]
  },
  {
   "cell_type": "code",
   "execution_count": 22,
   "metadata": {},
   "outputs": [
    {
     "ename": "FileNotFoundError",
     "evalue": "File b'../us_county_subdivision.csv' does not exist",
     "output_type": "error",
     "traceback": [
      "\u001b[0;31m---------------------------------------------------------------------------\u001b[0m",
      "\u001b[0;31mFileNotFoundError\u001b[0m                         Traceback (most recent call last)",
      "\u001b[0;32m<ipython-input-22-133ceefd9841>\u001b[0m in \u001b[0;36m<module>\u001b[0;34m()\u001b[0m\n\u001b[0;32m----> 1\u001b[0;31m \u001b[0mnozip_countysub\u001b[0m \u001b[0;34m=\u001b[0m \u001b[0mpd\u001b[0m\u001b[0;34m.\u001b[0m\u001b[0mread_csv\u001b[0m\u001b[0;34m(\u001b[0m\u001b[0;34m\"../us_county_subdivision.csv\"\u001b[0m\u001b[0;34m)\u001b[0m\u001b[0;34m\u001b[0m\u001b[0m\n\u001b[0m\u001b[1;32m      2\u001b[0m \u001b[0mnozip_countysub\u001b[0m\u001b[0;34m.\u001b[0m\u001b[0mhead\u001b[0m\u001b[0;34m(\u001b[0m\u001b[0;34m)\u001b[0m\u001b[0;34m\u001b[0m\u001b[0m\n\u001b[1;32m      3\u001b[0m \u001b[0;31m#nozipref['WORKSITE_CNTY']= nozipref['county_name'].apply(lambda x: x.upper())\u001b[0m\u001b[0;34m\u001b[0m\u001b[0;34m\u001b[0m\u001b[0m\n\u001b[1;32m      4\u001b[0m \u001b[0;31m#nozipref['WORKSITE_STATE'] = nozipref['state_id'].apply(lambda x: x.upper())\u001b[0m\u001b[0;34m\u001b[0m\u001b[0;34m\u001b[0m\u001b[0m\n\u001b[1;32m      5\u001b[0m \u001b[0;31m#nozipref['WORKSITE_CITY'] = nozipref['city'].apply(lambda x: x.upper())\u001b[0m\u001b[0;34m\u001b[0m\u001b[0;34m\u001b[0m\u001b[0m\n",
      "\u001b[0;32m/anaconda3/lib/python3.6/site-packages/pandas/io/parsers.py\u001b[0m in \u001b[0;36mparser_f\u001b[0;34m(filepath_or_buffer, sep, delimiter, header, names, index_col, usecols, squeeze, prefix, mangle_dupe_cols, dtype, engine, converters, true_values, false_values, skipinitialspace, skiprows, nrows, na_values, keep_default_na, na_filter, verbose, skip_blank_lines, parse_dates, infer_datetime_format, keep_date_col, date_parser, dayfirst, iterator, chunksize, compression, thousands, decimal, lineterminator, quotechar, quoting, escapechar, comment, encoding, dialect, tupleize_cols, error_bad_lines, warn_bad_lines, skipfooter, skip_footer, doublequote, delim_whitespace, as_recarray, compact_ints, use_unsigned, low_memory, buffer_lines, memory_map, float_precision)\u001b[0m\n\u001b[1;32m    707\u001b[0m                     skip_blank_lines=skip_blank_lines)\n\u001b[1;32m    708\u001b[0m \u001b[0;34m\u001b[0m\u001b[0m\n\u001b[0;32m--> 709\u001b[0;31m         \u001b[0;32mreturn\u001b[0m \u001b[0m_read\u001b[0m\u001b[0;34m(\u001b[0m\u001b[0mfilepath_or_buffer\u001b[0m\u001b[0;34m,\u001b[0m \u001b[0mkwds\u001b[0m\u001b[0;34m)\u001b[0m\u001b[0;34m\u001b[0m\u001b[0m\n\u001b[0m\u001b[1;32m    710\u001b[0m \u001b[0;34m\u001b[0m\u001b[0m\n\u001b[1;32m    711\u001b[0m     \u001b[0mparser_f\u001b[0m\u001b[0;34m.\u001b[0m\u001b[0m__name__\u001b[0m \u001b[0;34m=\u001b[0m \u001b[0mname\u001b[0m\u001b[0;34m\u001b[0m\u001b[0m\n",
      "\u001b[0;32m/anaconda3/lib/python3.6/site-packages/pandas/io/parsers.py\u001b[0m in \u001b[0;36m_read\u001b[0;34m(filepath_or_buffer, kwds)\u001b[0m\n\u001b[1;32m    447\u001b[0m \u001b[0;34m\u001b[0m\u001b[0m\n\u001b[1;32m    448\u001b[0m     \u001b[0;31m# Create the parser.\u001b[0m\u001b[0;34m\u001b[0m\u001b[0;34m\u001b[0m\u001b[0m\n\u001b[0;32m--> 449\u001b[0;31m     \u001b[0mparser\u001b[0m \u001b[0;34m=\u001b[0m \u001b[0mTextFileReader\u001b[0m\u001b[0;34m(\u001b[0m\u001b[0mfilepath_or_buffer\u001b[0m\u001b[0;34m,\u001b[0m \u001b[0;34m**\u001b[0m\u001b[0mkwds\u001b[0m\u001b[0;34m)\u001b[0m\u001b[0;34m\u001b[0m\u001b[0m\n\u001b[0m\u001b[1;32m    450\u001b[0m \u001b[0;34m\u001b[0m\u001b[0m\n\u001b[1;32m    451\u001b[0m     \u001b[0;32mif\u001b[0m \u001b[0mchunksize\u001b[0m \u001b[0;32mor\u001b[0m \u001b[0miterator\u001b[0m\u001b[0;34m:\u001b[0m\u001b[0;34m\u001b[0m\u001b[0m\n",
      "\u001b[0;32m/anaconda3/lib/python3.6/site-packages/pandas/io/parsers.py\u001b[0m in \u001b[0;36m__init__\u001b[0;34m(self, f, engine, **kwds)\u001b[0m\n\u001b[1;32m    816\u001b[0m             \u001b[0mself\u001b[0m\u001b[0;34m.\u001b[0m\u001b[0moptions\u001b[0m\u001b[0;34m[\u001b[0m\u001b[0;34m'has_index_names'\u001b[0m\u001b[0;34m]\u001b[0m \u001b[0;34m=\u001b[0m \u001b[0mkwds\u001b[0m\u001b[0;34m[\u001b[0m\u001b[0;34m'has_index_names'\u001b[0m\u001b[0;34m]\u001b[0m\u001b[0;34m\u001b[0m\u001b[0m\n\u001b[1;32m    817\u001b[0m \u001b[0;34m\u001b[0m\u001b[0m\n\u001b[0;32m--> 818\u001b[0;31m         \u001b[0mself\u001b[0m\u001b[0;34m.\u001b[0m\u001b[0m_make_engine\u001b[0m\u001b[0;34m(\u001b[0m\u001b[0mself\u001b[0m\u001b[0;34m.\u001b[0m\u001b[0mengine\u001b[0m\u001b[0;34m)\u001b[0m\u001b[0;34m\u001b[0m\u001b[0m\n\u001b[0m\u001b[1;32m    819\u001b[0m \u001b[0;34m\u001b[0m\u001b[0m\n\u001b[1;32m    820\u001b[0m     \u001b[0;32mdef\u001b[0m \u001b[0mclose\u001b[0m\u001b[0;34m(\u001b[0m\u001b[0mself\u001b[0m\u001b[0;34m)\u001b[0m\u001b[0;34m:\u001b[0m\u001b[0;34m\u001b[0m\u001b[0m\n",
      "\u001b[0;32m/anaconda3/lib/python3.6/site-packages/pandas/io/parsers.py\u001b[0m in \u001b[0;36m_make_engine\u001b[0;34m(self, engine)\u001b[0m\n\u001b[1;32m   1047\u001b[0m     \u001b[0;32mdef\u001b[0m \u001b[0m_make_engine\u001b[0m\u001b[0;34m(\u001b[0m\u001b[0mself\u001b[0m\u001b[0;34m,\u001b[0m \u001b[0mengine\u001b[0m\u001b[0;34m=\u001b[0m\u001b[0;34m'c'\u001b[0m\u001b[0;34m)\u001b[0m\u001b[0;34m:\u001b[0m\u001b[0;34m\u001b[0m\u001b[0m\n\u001b[1;32m   1048\u001b[0m         \u001b[0;32mif\u001b[0m \u001b[0mengine\u001b[0m \u001b[0;34m==\u001b[0m \u001b[0;34m'c'\u001b[0m\u001b[0;34m:\u001b[0m\u001b[0;34m\u001b[0m\u001b[0m\n\u001b[0;32m-> 1049\u001b[0;31m             \u001b[0mself\u001b[0m\u001b[0;34m.\u001b[0m\u001b[0m_engine\u001b[0m \u001b[0;34m=\u001b[0m \u001b[0mCParserWrapper\u001b[0m\u001b[0;34m(\u001b[0m\u001b[0mself\u001b[0m\u001b[0;34m.\u001b[0m\u001b[0mf\u001b[0m\u001b[0;34m,\u001b[0m \u001b[0;34m**\u001b[0m\u001b[0mself\u001b[0m\u001b[0;34m.\u001b[0m\u001b[0moptions\u001b[0m\u001b[0;34m)\u001b[0m\u001b[0;34m\u001b[0m\u001b[0m\n\u001b[0m\u001b[1;32m   1050\u001b[0m         \u001b[0;32melse\u001b[0m\u001b[0;34m:\u001b[0m\u001b[0;34m\u001b[0m\u001b[0m\n\u001b[1;32m   1051\u001b[0m             \u001b[0;32mif\u001b[0m \u001b[0mengine\u001b[0m \u001b[0;34m==\u001b[0m \u001b[0;34m'python'\u001b[0m\u001b[0;34m:\u001b[0m\u001b[0;34m\u001b[0m\u001b[0m\n",
      "\u001b[0;32m/anaconda3/lib/python3.6/site-packages/pandas/io/parsers.py\u001b[0m in \u001b[0;36m__init__\u001b[0;34m(self, src, **kwds)\u001b[0m\n\u001b[1;32m   1693\u001b[0m         \u001b[0mkwds\u001b[0m\u001b[0;34m[\u001b[0m\u001b[0;34m'allow_leading_cols'\u001b[0m\u001b[0;34m]\u001b[0m \u001b[0;34m=\u001b[0m \u001b[0mself\u001b[0m\u001b[0;34m.\u001b[0m\u001b[0mindex_col\u001b[0m \u001b[0;32mis\u001b[0m \u001b[0;32mnot\u001b[0m \u001b[0;32mFalse\u001b[0m\u001b[0;34m\u001b[0m\u001b[0m\n\u001b[1;32m   1694\u001b[0m \u001b[0;34m\u001b[0m\u001b[0m\n\u001b[0;32m-> 1695\u001b[0;31m         \u001b[0mself\u001b[0m\u001b[0;34m.\u001b[0m\u001b[0m_reader\u001b[0m \u001b[0;34m=\u001b[0m \u001b[0mparsers\u001b[0m\u001b[0;34m.\u001b[0m\u001b[0mTextReader\u001b[0m\u001b[0;34m(\u001b[0m\u001b[0msrc\u001b[0m\u001b[0;34m,\u001b[0m \u001b[0;34m**\u001b[0m\u001b[0mkwds\u001b[0m\u001b[0;34m)\u001b[0m\u001b[0;34m\u001b[0m\u001b[0m\n\u001b[0m\u001b[1;32m   1696\u001b[0m \u001b[0;34m\u001b[0m\u001b[0m\n\u001b[1;32m   1697\u001b[0m         \u001b[0;31m# XXX\u001b[0m\u001b[0;34m\u001b[0m\u001b[0;34m\u001b[0m\u001b[0m\n",
      "\u001b[0;32mpandas/_libs/parsers.pyx\u001b[0m in \u001b[0;36mpandas._libs.parsers.TextReader.__cinit__\u001b[0;34m()\u001b[0m\n",
      "\u001b[0;32mpandas/_libs/parsers.pyx\u001b[0m in \u001b[0;36mpandas._libs.parsers.TextReader._setup_parser_source\u001b[0;34m()\u001b[0m\n",
      "\u001b[0;31mFileNotFoundError\u001b[0m: File b'../us_county_subdivision.csv' does not exist"
     ]
    }
   ],
   "source": [
    "nozip_countysub = pd.read_csv(\"../us_county_subdivision.csv\")\n",
    "nozip_countysub.head()\n",
    "#nozipref['WORKSITE_CNTY']= nozipref['county_name'].apply(lambda x: x.upper())\n",
    "#nozipref['WORKSITE_STATE'] = nozipref['state_id'].apply(lambda x: x.upper())\n",
    "#nozipref['WORKSITE_CITY'] = nozipref['city'].apply(lambda x: x.upper())"
   ]
  },
  {
   "cell_type": "code",
   "execution_count": 339,
   "metadata": {},
   "outputs": [],
   "source": [
    "nozipref.head()\n",
    "tinynozip = nozipref[['WORKSITE_CNTY', 'WORKSITE_STATE', 'WORKSITE_CITY', 'county_fips', 'city_ascii']]"
   ]
  },
  {
   "cell_type": "code",
   "execution_count": 355,
   "metadata": {},
   "outputs": [],
   "source": [
    "#tinynozip[tinynozip['WORKSITE_STATE'] == 'MI']"
   ]
  },
  {
   "cell_type": "code",
   "execution_count": 143,
   "metadata": {},
   "outputs": [],
   "source": [
    "#ziploc = pd.read_csv(\"Georeferences/zip tabulation area/2017_zip_tabulation_areas_gazetteer.txt\", sep=\"\\t\", converters = {\"GEOID\": lambda x: str(x)})\n",
    "#zipref = pd.read_excel(\"../cross-walk/ZIP_COUNTY_122017.xlsx\", dtype={'zip': str, 'county': str})"
   ]
  },
  {
   "cell_type": "code",
   "execution_count": 144,
   "metadata": {
    "scrolled": true
   },
   "outputs": [],
   "source": [
    "#zipmatch = zipref[['zip','county']].astype(str)\n",
    "#zipmatch.head()"
   ]
  },
  {
   "cell_type": "code",
   "execution_count": 7,
   "metadata": {},
   "outputs": [
    {
     "data": {
      "text/plain": [
       "519504"
      ]
     },
     "execution_count": 7,
     "metadata": {},
     "output_type": "execute_result"
    }
   ],
   "source": [
    "len(vdata)"
   ]
  },
  {
   "cell_type": "code",
   "execution_count": 8,
   "metadata": {},
   "outputs": [
    {
     "data": {
      "text/plain": [
       "Index(['LCA_CASE_NUMBER', 'STATUS', 'LCA_CASE_SUBMIT', 'DECISION_DATE',\n",
       "       'VISA_CLASS', 'LCA_CASE_EMPLOYMENT_START_DATE',\n",
       "       'LCA_CASE_EMPLOYMENT_END_DATE', 'LCA_CASE_EMPLOYER_NAME',\n",
       "       'LCA_CASE_EMPLOYER_ADDRESS', 'LCA_CASE_EMPLOYER_CITY',\n",
       "       'LCA_CASE_EMPLOYER_STATE', 'LCA_CASE_EMPLOYER_POSTAL_CODE',\n",
       "       'LCA_CASE_SOC_CODE', 'LCA_CASE_SOC_NAME', 'LCA_CASE_JOB_TITLE',\n",
       "       'LCA_CASE_WAGE_RATE_FROM', 'LCA_CASE_WAGE_RATE_TO',\n",
       "       'LCA_CASE_WAGE_RATE_UNIT', 'FULL_TIME_POS', 'TOTAL_WORKERS',\n",
       "       'LCA_CASE_WORKLOC1_CITY', 'LCA_CASE_WORKLOC1_STATE', 'PW_1',\n",
       "       'PW_UNIT_1', 'PW_SOURCE_1', 'OTHER_WAGE_SOURCE_1', 'YR_SOURCE_PUB_1',\n",
       "       'LCA_CASE_WORKLOC2_CITY', 'LCA_CASE_WORKLOC2_STATE', 'PW_2',\n",
       "       'PW_UNIT_2', 'PW_SOURCE_2', 'OTHER_WAGE_SOURCE_2', 'YR_SOURCE_PUB_2',\n",
       "       'LCA_CASE_NAICS_CODE'],\n",
       "      dtype='object')"
      ]
     },
     "execution_count": 8,
     "metadata": {},
     "output_type": "execute_result"
    }
   ],
   "source": [
    "vdata.columns"
   ]
  },
  {
   "cell_type": "code",
   "execution_count": 9,
   "metadata": {
    "scrolled": true
   },
   "outputs": [
    {
     "data": {
      "text/plain": [
       "LCA_CASE_NUMBER                           object\n",
       "STATUS                                    object\n",
       "LCA_CASE_SUBMIT                   datetime64[ns]\n",
       "DECISION_DATE                     datetime64[ns]\n",
       "VISA_CLASS                                object\n",
       "LCA_CASE_EMPLOYMENT_START_DATE    datetime64[ns]\n",
       "LCA_CASE_EMPLOYMENT_END_DATE      datetime64[ns]\n",
       "LCA_CASE_EMPLOYER_NAME                    object\n",
       "LCA_CASE_EMPLOYER_ADDRESS                 object\n",
       "LCA_CASE_EMPLOYER_CITY                    object\n",
       "LCA_CASE_EMPLOYER_STATE                   object\n",
       "LCA_CASE_EMPLOYER_POSTAL_CODE             object\n",
       "LCA_CASE_SOC_CODE                         object\n",
       "LCA_CASE_SOC_NAME                         object\n",
       "LCA_CASE_JOB_TITLE                        object\n",
       "LCA_CASE_WAGE_RATE_FROM                  float64\n",
       "LCA_CASE_WAGE_RATE_TO                    float64\n",
       "LCA_CASE_WAGE_RATE_UNIT                   object\n",
       "FULL_TIME_POS                             object\n",
       "TOTAL_WORKERS                            float64\n",
       "LCA_CASE_WORKLOC1_CITY                    object\n",
       "LCA_CASE_WORKLOC1_STATE                   object\n",
       "PW_1                                     float64\n",
       "PW_UNIT_1                                 object\n",
       "PW_SOURCE_1                               object\n",
       "OTHER_WAGE_SOURCE_1                       object\n",
       "YR_SOURCE_PUB_1                          float64\n",
       "LCA_CASE_WORKLOC2_CITY                    object\n",
       "LCA_CASE_WORKLOC2_STATE                   object\n",
       "PW_2                                     float64\n",
       "PW_UNIT_2                                 object\n",
       "PW_SOURCE_2                               object\n",
       "OTHER_WAGE_SOURCE_2                       object\n",
       "YR_SOURCE_PUB_2                           object\n",
       "LCA_CASE_NAICS_CODE                      float64\n",
       "dtype: object"
      ]
     },
     "execution_count": 9,
     "metadata": {},
     "output_type": "execute_result"
    }
   ],
   "source": [
    "vdata.dtypes"
   ]
  },
  {
   "cell_type": "code",
   "execution_count": 280,
   "metadata": {},
   "outputs": [
    {
     "data": {
      "text/html": [
       "<div>\n",
       "<style scoped>\n",
       "    .dataframe tbody tr th:only-of-type {\n",
       "        vertical-align: middle;\n",
       "    }\n",
       "\n",
       "    .dataframe tbody tr th {\n",
       "        vertical-align: top;\n",
       "    }\n",
       "\n",
       "    .dataframe thead th {\n",
       "        text-align: right;\n",
       "    }\n",
       "</style>\n",
       "<table border=\"1\" class=\"dataframe\">\n",
       "  <thead>\n",
       "    <tr style=\"text-align: right;\">\n",
       "      <th></th>\n",
       "      <th>LCA_CASE_WAGE_RATE_FROM</th>\n",
       "      <th>LCA_CASE_WAGE_RATE_TO</th>\n",
       "      <th>TOTAL_WORKERS</th>\n",
       "      <th>PW_1</th>\n",
       "      <th>YR_SOURCE_PUB_1</th>\n",
       "      <th>PW_2</th>\n",
       "      <th>LCA_CASE_NAICS_CODE</th>\n",
       "    </tr>\n",
       "  </thead>\n",
       "  <tbody>\n",
       "    <tr>\n",
       "      <th>count</th>\n",
       "      <td>5.194680e+05</td>\n",
       "      <td>1.029320e+05</td>\n",
       "      <td>519501.000000</td>\n",
       "      <td>5.194200e+05</td>\n",
       "      <td>519420.000000</td>\n",
       "      <td>8.390900e+04</td>\n",
       "      <td>5.194790e+05</td>\n",
       "    </tr>\n",
       "    <tr>\n",
       "      <th>mean</th>\n",
       "      <td>9.221640e+04</td>\n",
       "      <td>1.043534e+05</td>\n",
       "      <td>1.949748</td>\n",
       "      <td>6.965971e+04</td>\n",
       "      <td>2013.236471</td>\n",
       "      <td>7.894272e+04</td>\n",
       "      <td>4.728886e+05</td>\n",
       "    </tr>\n",
       "    <tr>\n",
       "      <th>std</th>\n",
       "      <td>1.017462e+07</td>\n",
       "      <td>6.716618e+04</td>\n",
       "      <td>5.843326</td>\n",
       "      <td>1.536002e+06</td>\n",
       "      <td>2.864144</td>\n",
       "      <td>2.458163e+06</td>\n",
       "      <td>1.604127e+06</td>\n",
       "    </tr>\n",
       "    <tr>\n",
       "      <th>min</th>\n",
       "      <td>0.000000e+00</td>\n",
       "      <td>0.000000e+00</td>\n",
       "      <td>1.000000</td>\n",
       "      <td>0.000000e+00</td>\n",
       "      <td>0.000000</td>\n",
       "      <td>0.000000e+00</td>\n",
       "      <td>1.100000e+01</td>\n",
       "    </tr>\n",
       "    <tr>\n",
       "      <th>25%</th>\n",
       "      <td>6.000000e+04</td>\n",
       "      <td>7.669000e+04</td>\n",
       "      <td>1.000000</td>\n",
       "      <td>5.222900e+04</td>\n",
       "      <td>2013.000000</td>\n",
       "      <td>5.277000e+04</td>\n",
       "      <td>5.182100e+05</td>\n",
       "    </tr>\n",
       "    <tr>\n",
       "      <th>50%</th>\n",
       "      <td>7.000000e+04</td>\n",
       "      <td>1.000000e+05</td>\n",
       "      <td>1.000000</td>\n",
       "      <td>6.333600e+04</td>\n",
       "      <td>2013.000000</td>\n",
       "      <td>6.256600e+04</td>\n",
       "      <td>5.415110e+05</td>\n",
       "    </tr>\n",
       "    <tr>\n",
       "      <th>75%</th>\n",
       "      <td>9.000000e+04</td>\n",
       "      <td>1.269112e+05</td>\n",
       "      <td>1.000000</td>\n",
       "      <td>7.968000e+04</td>\n",
       "      <td>2014.000000</td>\n",
       "      <td>7.737600e+04</td>\n",
       "      <td>5.415110e+05</td>\n",
       "    </tr>\n",
       "    <tr>\n",
       "      <th>max</th>\n",
       "      <td>7.278873e+09</td>\n",
       "      <td>1.000003e+07</td>\n",
       "      <td>2013.000000</td>\n",
       "      <td>8.201323e+08</td>\n",
       "      <td>2014.000000</td>\n",
       "      <td>6.036204e+08</td>\n",
       "      <td>8.129908e+08</td>\n",
       "    </tr>\n",
       "  </tbody>\n",
       "</table>\n",
       "</div>"
      ],
      "text/plain": [
       "       LCA_CASE_WAGE_RATE_FROM  LCA_CASE_WAGE_RATE_TO  TOTAL_WORKERS  \\\n",
       "count             5.194680e+05           1.029320e+05  519501.000000   \n",
       "mean              9.221640e+04           1.043534e+05       1.949748   \n",
       "std               1.017462e+07           6.716618e+04       5.843326   \n",
       "min               0.000000e+00           0.000000e+00       1.000000   \n",
       "25%               6.000000e+04           7.669000e+04       1.000000   \n",
       "50%               7.000000e+04           1.000000e+05       1.000000   \n",
       "75%               9.000000e+04           1.269112e+05       1.000000   \n",
       "max               7.278873e+09           1.000003e+07    2013.000000   \n",
       "\n",
       "               PW_1  YR_SOURCE_PUB_1          PW_2  LCA_CASE_NAICS_CODE  \n",
       "count  5.194200e+05    519420.000000  8.390900e+04         5.194790e+05  \n",
       "mean   6.965971e+04      2013.236471  7.894272e+04         4.728886e+05  \n",
       "std    1.536002e+06         2.864144  2.458163e+06         1.604127e+06  \n",
       "min    0.000000e+00         0.000000  0.000000e+00         1.100000e+01  \n",
       "25%    5.222900e+04      2013.000000  5.277000e+04         5.182100e+05  \n",
       "50%    6.333600e+04      2013.000000  6.256600e+04         5.415110e+05  \n",
       "75%    7.968000e+04      2014.000000  7.737600e+04         5.415110e+05  \n",
       "max    8.201323e+08      2014.000000  6.036204e+08         8.129908e+08  "
      ]
     },
     "execution_count": 280,
     "metadata": {},
     "output_type": "execute_result"
    }
   ],
   "source": [
    "vdata.describe()"
   ]
  },
  {
   "cell_type": "code",
   "execution_count": 260,
   "metadata": {},
   "outputs": [],
   "source": [
    "#vdata[['LCA_CASE_WAGE_RATE_FROM','LCA_CASE_WAGE_RATE_TO','PW_1']] #!= vdata['LCA_CASE_EMPLOYER_CITY']]"
   ]
  },
  {
   "cell_type": "code",
   "execution_count": 10,
   "metadata": {},
   "outputs": [
    {
     "data": {
      "text/plain": [
       "array(['Year', 'Hour', nan, 'Week', 'Month', 'Bi-Weekly'], dtype=object)"
      ]
     },
     "execution_count": 10,
     "metadata": {},
     "output_type": "execute_result"
    }
   ],
   "source": [
    "#np.isfinite(vdata['LCA_CASE_WAGE_RATE_TO'])\n",
    "vdata['LCA_CASE_WAGE_RATE_UNIT'].unique()"
   ]
  },
  {
   "cell_type": "code",
   "execution_count": 11,
   "metadata": {},
   "outputs": [],
   "source": [
    "#h1ba = h1bdat\n",
    "#list(h1bdat)\n",
    "\n",
    "#case number\n",
    "vdata['CASE_NUMBER'] = vdata['LCA_CASE_NUMBER']\n",
    "#case status\n",
    "vdata['CASE_STATUS'] = vdata['STATUS'].astype('category')\n",
    "#visa type\n",
    "vdata['VISA_CLASS'] = vdata['VISA_CLASS'].astype('category')\n",
    "#4-digit naics code for the employement\n",
    "vdata['NAIC_CODE'] = vdata['LCA_CASE_NAICS_CODE'].astype('str')\n",
    "vdata['NAICS4'] = vdata['NAIC_CODE'].apply(lambda x: x[:4])\n",
    "#payunit\n",
    "vdata['PAYUNIT'] = vdata['LCA_CASE_WAGE_RATE_UNIT'].astype('category')\n",
    "#employer location\n",
    "vdata['EMPLOYER_POSTAL_CODE'] = vdata['LCA_CASE_EMPLOYER_POSTAL_CODE']\n",
    "#job title\n",
    "vdata['JOB_TITLE'] = vdata['LCA_CASE_JOB_TITLE']\n",
    "#worksite city/state (when zipcodes not available)\n",
    "vdata['WORKSITE_CITY'] = vdata['LCA_CASE_WORKLOC1_CITY']\n",
    "vdata['WORKSITE_STATE'] = vdata['LCA_CASE_WORKLOC1_STATE']\n",
    "#wage \n",
    "vdata['WAGE'] = vdata['LCA_CASE_WAGE_RATE_FROM']\n",
    "vdata.loc[(np.isfinite(vdata['LCA_CASE_WAGE_RATE_TO'])),'WAGE'] = 0.5* (vdata['LCA_CASE_WAGE_RATE_FROM'] + vdata['LCA_CASE_WAGE_RATE_TO'])"
   ]
  },
  {
   "cell_type": "code",
   "execution_count": 190,
   "metadata": {},
   "outputs": [],
   "source": [
    "#list(visa17)"
   ]
  },
  {
   "cell_type": "code",
   "execution_count": 315,
   "metadata": {},
   "outputs": [],
   "source": [
    "vdata = vdata[['CASE_NUMBER','CASE_STATUS',#'CASE_SUBMITTED',\n",
    "               'VISA_CLASS','EMPLOYER_POSTAL_CODE','NAICS4','TOTAL_WORKERS','WORKSITE_CITY', 'WORKSITE_STATE',\n",
    "                'WAGE', 'PAYUNIT']] \n",
    "#'ORIGINAL_CERT_DATE', #'EMPLOYMENT_START_DATE','EMPLOYMENT_END_DATE','EMPLOYER_NAME','WORKSITE_POSTAL_CODE','JOB_TITLE',"
   ]
  },
  {
   "cell_type": "code",
   "execution_count": 212,
   "metadata": {},
   "outputs": [],
   "source": [
    "#vdata.head()\n",
    "#vdata['TOTAL_WORKERS'] = vdata['TOTAL WORKERS']"
   ]
  },
  {
   "cell_type": "code",
   "execution_count": 287,
   "metadata": {},
   "outputs": [
    {
     "data": {
      "text/plain": [
       "CASE_NUMBER               object\n",
       "CASE_STATUS             category\n",
       "VISA_CLASS              category\n",
       "EMPLOYER_POSTAL_CODE      object\n",
       "NAICS4                    object\n",
       "TOTAL_WORKERS            float64\n",
       "WORKSITE_CITY             object\n",
       "WORKSITE_STATE            object\n",
       "WAGE                     float64\n",
       "PAYUNIT                 category\n",
       "dtype: object"
      ]
     },
     "execution_count": 287,
     "metadata": {},
     "output_type": "execute_result"
    }
   ],
   "source": [
    "vdata.dtypes"
   ]
  },
  {
   "cell_type": "code",
   "execution_count": 214,
   "metadata": {},
   "outputs": [],
   "source": [
    "#vdata.groupby(['VISA_CLASS','CASE_STATUS']).agg(['mean','count'])"
   ]
  },
  {
   "cell_type": "code",
   "execution_count": 215,
   "metadata": {},
   "outputs": [],
   "source": [
    "#vdata.groupby(['CASE_STATUS','VISA_CLASS']).agg(['mean','count'])"
   ]
  },
  {
   "cell_type": "code",
   "execution_count": 316,
   "metadata": {},
   "outputs": [],
   "source": [
    "### WHEN EMEPLOYER ZIPCODE AVAILABLE \n",
    "#join/merging to get clean state fips of employer for each records\n",
    "vdataem = pd.merge(vdata, zipmatch, how = 'left', left_on='EMPLOYER_POSTAL_CODE', right_on='zip', validate=\"m:m\")\n",
    "vdataem = vdataem.rename(columns = {'zip': 'EMP_ZIP', 'county': 'EMP_CNTY'})"
   ]
  },
  {
   "cell_type": "code",
   "execution_count": 217,
   "metadata": {},
   "outputs": [],
   "source": [
    "## WHEN WORKSITE ZIPCODE AVAILABLE \n",
    "#vdataewm = pd.merge(vdataem, zipmatch, how = 'left', left_on=['WORKSITE_POSTAL_CODE'] , right_on='zip' , validate=\"m:m\")\n",
    "#vdatafull = vdataewm.rename(columns = {'zip': 'WORK_ZIP', 'county': 'WORK_CNTY'})"
   ]
  },
  {
   "cell_type": "code",
   "execution_count": null,
   "metadata": {},
   "outputs": [],
   "source": [
    "vdataewm['WORKSITE_CITYSTATE'] = vdataewm['WORKSITE_CITY'] + ', ' + vdataewm['WORKSITE_STATE']\n",
    "tinynozip['WORKSITE_CITYSTATE'] = tinynozip['WORKSITE_CITY'] + ', ' + tinynozip['WORKSITE_STATE']"
   ]
  },
  {
   "cell_type": "code",
   "execution_count": null,
   "metadata": {},
   "outputs": [],
   "source": [
    "vdataewm.loc[vdataewm['WORKSITE_CNTY'].isnull(), 'WORKSTIE_CITYSTATE2'] = 'test'\n",
    "vdataewm['WORKSITE_CITYSTATE'] = vdataewm['WORKSITE_CITYSTATE'].astype(str)"
   ]
  },
  {
   "cell_type": "code",
   "execution_count": null,
   "metadata": {},
   "outputs": [],
   "source": [
    "vdataaewm.loc[(vdataewm[''])]"
   ]
  },
  {
   "cell_type": "code",
   "execution_count": 436,
   "metadata": {},
   "outputs": [
    {
     "ename": "KeyboardInterrupt",
     "evalue": "",
     "output_type": "error",
     "traceback": [
      "\u001b[0;31m---------------------------------------------------------------------------\u001b[0m",
      "\u001b[0;31mKeyboardInterrupt\u001b[0m                         Traceback (most recent call last)",
      "\u001b[0;32m<ipython-input-436-2c24816e29b5>\u001b[0m in \u001b[0;36m<module>\u001b[0;34m()\u001b[0m\n\u001b[1;32m      4\u001b[0m \u001b[0;31m#vdataewm.loc[vdataewm['WORKSITE_CNTY'].isnull(), 'WORKSTIE_CITYSTATE2'] = 'test'\u001b[0m\u001b[0;34m\u001b[0m\u001b[0;34m\u001b[0m\u001b[0m\n\u001b[1;32m      5\u001b[0m \u001b[0;31m#vdataewm['WORKSITE_CITYSTATE'] = vdataewm['WORKSITE_CITYSTATE'].astype(str)\u001b[0m\u001b[0;34m\u001b[0m\u001b[0;34m\u001b[0m\u001b[0m\n\u001b[0;32m----> 6\u001b[0;31m \u001b[0mvdataewm\u001b[0m\u001b[0;34m.\u001b[0m\u001b[0mloc\u001b[0m\u001b[0;34m[\u001b[0m\u001b[0;34m(\u001b[0m\u001b[0mvdataewm\u001b[0m\u001b[0;34m[\u001b[0m\u001b[0;34m'WORKSTIE_CITYSTATE2'\u001b[0m\u001b[0;34m]\u001b[0m \u001b[0;34m==\u001b[0m \u001b[0;34m'test'\u001b[0m\u001b[0;34m)\u001b[0m\u001b[0;34m,\u001b[0m \u001b[0;34m'WORKSTIE_CITYSTATE2'\u001b[0m\u001b[0;34m]\u001b[0m \u001b[0;34m=\u001b[0m \u001b[0mvdataewm\u001b[0m\u001b[0;34m[\u001b[0m\u001b[0;34m'WORKSITE_CITYSTATE'\u001b[0m\u001b[0;34m]\u001b[0m\u001b[0;34m.\u001b[0m\u001b[0mapply\u001b[0m\u001b[0;34m(\u001b[0m\u001b[0;32mlambda\u001b[0m \u001b[0mx\u001b[0m\u001b[0;34m:\u001b[0m \u001b[0mdifflib\u001b[0m\u001b[0;34m.\u001b[0m\u001b[0mget_close_matches\u001b[0m\u001b[0;34m(\u001b[0m\u001b[0mx\u001b[0m\u001b[0;34m,\u001b[0m \u001b[0mtinynozip\u001b[0m\u001b[0;34m[\u001b[0m\u001b[0;34m'WORKSITE_CITYSTATE'\u001b[0m\u001b[0;34m]\u001b[0m\u001b[0;34m)\u001b[0m\u001b[0;34m)\u001b[0m\u001b[0;34m\u001b[0m\u001b[0m\n\u001b[0m",
      "\u001b[0;32m/anaconda3/lib/python3.6/site-packages/pandas/core/series.py\u001b[0m in \u001b[0;36mapply\u001b[0;34m(self, func, convert_dtype, args, **kwds)\u001b[0m\n\u001b[1;32m   2549\u001b[0m             \u001b[0;32melse\u001b[0m\u001b[0;34m:\u001b[0m\u001b[0;34m\u001b[0m\u001b[0m\n\u001b[1;32m   2550\u001b[0m                 \u001b[0mvalues\u001b[0m \u001b[0;34m=\u001b[0m \u001b[0mself\u001b[0m\u001b[0;34m.\u001b[0m\u001b[0masobject\u001b[0m\u001b[0;34m\u001b[0m\u001b[0m\n\u001b[0;32m-> 2551\u001b[0;31m                 \u001b[0mmapped\u001b[0m \u001b[0;34m=\u001b[0m \u001b[0mlib\u001b[0m\u001b[0;34m.\u001b[0m\u001b[0mmap_infer\u001b[0m\u001b[0;34m(\u001b[0m\u001b[0mvalues\u001b[0m\u001b[0;34m,\u001b[0m \u001b[0mf\u001b[0m\u001b[0;34m,\u001b[0m \u001b[0mconvert\u001b[0m\u001b[0;34m=\u001b[0m\u001b[0mconvert_dtype\u001b[0m\u001b[0;34m)\u001b[0m\u001b[0;34m\u001b[0m\u001b[0m\n\u001b[0m\u001b[1;32m   2552\u001b[0m \u001b[0;34m\u001b[0m\u001b[0m\n\u001b[1;32m   2553\u001b[0m         \u001b[0;32mif\u001b[0m \u001b[0mlen\u001b[0m\u001b[0;34m(\u001b[0m\u001b[0mmapped\u001b[0m\u001b[0;34m)\u001b[0m \u001b[0;32mand\u001b[0m \u001b[0misinstance\u001b[0m\u001b[0;34m(\u001b[0m\u001b[0mmapped\u001b[0m\u001b[0;34m[\u001b[0m\u001b[0;36m0\u001b[0m\u001b[0;34m]\u001b[0m\u001b[0;34m,\u001b[0m \u001b[0mSeries\u001b[0m\u001b[0;34m)\u001b[0m\u001b[0;34m:\u001b[0m\u001b[0;34m\u001b[0m\u001b[0m\n",
      "\u001b[0;32mpandas/_libs/src/inference.pyx\u001b[0m in \u001b[0;36mpandas._libs.lib.map_infer\u001b[0;34m()\u001b[0m\n",
      "\u001b[0;32m<ipython-input-436-2c24816e29b5>\u001b[0m in \u001b[0;36m<lambda>\u001b[0;34m(x)\u001b[0m\n\u001b[1;32m      4\u001b[0m \u001b[0;31m#vdataewm.loc[vdataewm['WORKSITE_CNTY'].isnull(), 'WORKSTIE_CITYSTATE2'] = 'test'\u001b[0m\u001b[0;34m\u001b[0m\u001b[0;34m\u001b[0m\u001b[0m\n\u001b[1;32m      5\u001b[0m \u001b[0;31m#vdataewm['WORKSITE_CITYSTATE'] = vdataewm['WORKSITE_CITYSTATE'].astype(str)\u001b[0m\u001b[0;34m\u001b[0m\u001b[0;34m\u001b[0m\u001b[0m\n\u001b[0;32m----> 6\u001b[0;31m \u001b[0mvdataewm\u001b[0m\u001b[0;34m.\u001b[0m\u001b[0mloc\u001b[0m\u001b[0;34m[\u001b[0m\u001b[0;34m(\u001b[0m\u001b[0mvdataewm\u001b[0m\u001b[0;34m[\u001b[0m\u001b[0;34m'WORKSTIE_CITYSTATE2'\u001b[0m\u001b[0;34m]\u001b[0m \u001b[0;34m==\u001b[0m \u001b[0;34m'test'\u001b[0m\u001b[0;34m)\u001b[0m\u001b[0;34m,\u001b[0m \u001b[0;34m'WORKSTIE_CITYSTATE2'\u001b[0m\u001b[0;34m]\u001b[0m \u001b[0;34m=\u001b[0m \u001b[0mvdataewm\u001b[0m\u001b[0;34m[\u001b[0m\u001b[0;34m'WORKSITE_CITYSTATE'\u001b[0m\u001b[0;34m]\u001b[0m\u001b[0;34m.\u001b[0m\u001b[0mapply\u001b[0m\u001b[0;34m(\u001b[0m\u001b[0;32mlambda\u001b[0m \u001b[0mx\u001b[0m\u001b[0;34m:\u001b[0m \u001b[0mdifflib\u001b[0m\u001b[0;34m.\u001b[0m\u001b[0mget_close_matches\u001b[0m\u001b[0;34m(\u001b[0m\u001b[0mx\u001b[0m\u001b[0;34m,\u001b[0m \u001b[0mtinynozip\u001b[0m\u001b[0;34m[\u001b[0m\u001b[0;34m'WORKSITE_CITYSTATE'\u001b[0m\u001b[0;34m]\u001b[0m\u001b[0;34m)\u001b[0m\u001b[0;34m)\u001b[0m\u001b[0;34m\u001b[0m\u001b[0m\n\u001b[0m",
      "\u001b[0;32m/anaconda3/lib/python3.6/difflib.py\u001b[0m in \u001b[0;36mget_close_matches\u001b[0;34m(word, possibilities, n, cutoff)\u001b[0m\n\u001b[1;32m    725\u001b[0m         \u001b[0ms\u001b[0m\u001b[0;34m.\u001b[0m\u001b[0mset_seq1\u001b[0m\u001b[0;34m(\u001b[0m\u001b[0mx\u001b[0m\u001b[0;34m)\u001b[0m\u001b[0;34m\u001b[0m\u001b[0m\n\u001b[1;32m    726\u001b[0m         \u001b[0;32mif\u001b[0m \u001b[0ms\u001b[0m\u001b[0;34m.\u001b[0m\u001b[0mreal_quick_ratio\u001b[0m\u001b[0;34m(\u001b[0m\u001b[0;34m)\u001b[0m \u001b[0;34m>=\u001b[0m \u001b[0mcutoff\u001b[0m \u001b[0;32mand\u001b[0m\u001b[0;31m \u001b[0m\u001b[0;31m\\\u001b[0m\u001b[0;34m\u001b[0m\u001b[0m\n\u001b[0;32m--> 727\u001b[0;31m            \u001b[0ms\u001b[0m\u001b[0;34m.\u001b[0m\u001b[0mquick_ratio\u001b[0m\u001b[0;34m(\u001b[0m\u001b[0;34m)\u001b[0m \u001b[0;34m>=\u001b[0m \u001b[0mcutoff\u001b[0m \u001b[0;32mand\u001b[0m\u001b[0;31m \u001b[0m\u001b[0;31m\\\u001b[0m\u001b[0;34m\u001b[0m\u001b[0m\n\u001b[0m\u001b[1;32m    728\u001b[0m            \u001b[0ms\u001b[0m\u001b[0;34m.\u001b[0m\u001b[0mratio\u001b[0m\u001b[0;34m(\u001b[0m\u001b[0;34m)\u001b[0m \u001b[0;34m>=\u001b[0m \u001b[0mcutoff\u001b[0m\u001b[0;34m:\u001b[0m\u001b[0;34m\u001b[0m\u001b[0m\n\u001b[1;32m    729\u001b[0m             \u001b[0mresult\u001b[0m\u001b[0;34m.\u001b[0m\u001b[0mappend\u001b[0m\u001b[0;34m(\u001b[0m\u001b[0;34m(\u001b[0m\u001b[0ms\u001b[0m\u001b[0;34m.\u001b[0m\u001b[0mratio\u001b[0m\u001b[0;34m(\u001b[0m\u001b[0;34m)\u001b[0m\u001b[0;34m,\u001b[0m \u001b[0mx\u001b[0m\u001b[0;34m)\u001b[0m\u001b[0;34m)\u001b[0m\u001b[0;34m\u001b[0m\u001b[0m\n",
      "\u001b[0;32m/anaconda3/lib/python3.6/difflib.py\u001b[0m in \u001b[0;36mquick_ratio\u001b[0;34m(self)\u001b[0m\n\u001b[1;32m    669\u001b[0m             \u001b[0;32melse\u001b[0m\u001b[0;34m:\u001b[0m\u001b[0;34m\u001b[0m\u001b[0m\n\u001b[1;32m    670\u001b[0m                 \u001b[0mnumb\u001b[0m \u001b[0;34m=\u001b[0m \u001b[0mfullbcount\u001b[0m\u001b[0;34m.\u001b[0m\u001b[0mget\u001b[0m\u001b[0;34m(\u001b[0m\u001b[0melt\u001b[0m\u001b[0;34m,\u001b[0m \u001b[0;36m0\u001b[0m\u001b[0;34m)\u001b[0m\u001b[0;34m\u001b[0m\u001b[0m\n\u001b[0;32m--> 671\u001b[0;31m             \u001b[0mavail\u001b[0m\u001b[0;34m[\u001b[0m\u001b[0melt\u001b[0m\u001b[0;34m]\u001b[0m \u001b[0;34m=\u001b[0m \u001b[0mnumb\u001b[0m \u001b[0;34m-\u001b[0m \u001b[0;36m1\u001b[0m\u001b[0;34m\u001b[0m\u001b[0m\n\u001b[0m\u001b[1;32m    672\u001b[0m             \u001b[0;32mif\u001b[0m \u001b[0mnumb\u001b[0m \u001b[0;34m>\u001b[0m \u001b[0;36m0\u001b[0m\u001b[0;34m:\u001b[0m\u001b[0;34m\u001b[0m\u001b[0m\n\u001b[1;32m    673\u001b[0m                 \u001b[0mmatches\u001b[0m \u001b[0;34m=\u001b[0m \u001b[0mmatches\u001b[0m \u001b[0;34m+\u001b[0m \u001b[0;36m1\u001b[0m\u001b[0;34m\u001b[0m\u001b[0m\n",
      "\u001b[0;31mKeyboardInterrupt\u001b[0m: "
     ]
    }
   ],
   "source": [
    "vdataewm.loc[(vdataewm['WORKSTIE_CITYSTATE2'] == 'test'), 'WORKSTIE_CITYSTATE2'] = vdataewm['WORKSITE_CITYSTATE'].apply(lambda x: difflib.get_close_matches(x, tinynozip['WORKSITE_CITYSTATE']))"
   ]
  },
  {
   "cell_type": "code",
   "execution_count": 417,
   "metadata": {},
   "outputs": [
    {
     "data": {
      "text/html": [
       "<div>\n",
       "<style scoped>\n",
       "    .dataframe tbody tr th:only-of-type {\n",
       "        vertical-align: middle;\n",
       "    }\n",
       "\n",
       "    .dataframe tbody tr th {\n",
       "        vertical-align: top;\n",
       "    }\n",
       "\n",
       "    .dataframe thead th {\n",
       "        text-align: right;\n",
       "    }\n",
       "</style>\n",
       "<table border=\"1\" class=\"dataframe\">\n",
       "  <thead>\n",
       "    <tr style=\"text-align: right;\">\n",
       "      <th></th>\n",
       "      <th>WORKSITE_CNTY</th>\n",
       "      <th>WORKSITE_STATE</th>\n",
       "      <th>WORKSITE_CITY</th>\n",
       "      <th>county_fips</th>\n",
       "      <th>city_ascii</th>\n",
       "      <th>WORKSITE_CITYSTATE</th>\n",
       "    </tr>\n",
       "  </thead>\n",
       "  <tbody>\n",
       "    <tr>\n",
       "      <th>0</th>\n",
       "      <td>PIERCE</td>\n",
       "      <td>WA</td>\n",
       "      <td>PRAIRIE RIDGE</td>\n",
       "      <td>53053</td>\n",
       "      <td>Prairie Ridge</td>\n",
       "      <td>PRAIRIE RIDGE, WA</td>\n",
       "    </tr>\n",
       "    <tr>\n",
       "      <th>1</th>\n",
       "      <td>SKAGIT</td>\n",
       "      <td>WA</td>\n",
       "      <td>EDISON</td>\n",
       "      <td>53057</td>\n",
       "      <td>Edison</td>\n",
       "      <td>EDISON, WA</td>\n",
       "    </tr>\n",
       "    <tr>\n",
       "      <th>2</th>\n",
       "      <td>LEWIS</td>\n",
       "      <td>WA</td>\n",
       "      <td>PACKWOOD</td>\n",
       "      <td>53041</td>\n",
       "      <td>Packwood</td>\n",
       "      <td>PACKWOOD, WA</td>\n",
       "    </tr>\n",
       "    <tr>\n",
       "      <th>3</th>\n",
       "      <td>KITSAP</td>\n",
       "      <td>WA</td>\n",
       "      <td>WAUTAUGA BEACH</td>\n",
       "      <td>53035</td>\n",
       "      <td>Wautauga Beach</td>\n",
       "      <td>WAUTAUGA BEACH, WA</td>\n",
       "    </tr>\n",
       "    <tr>\n",
       "      <th>4</th>\n",
       "      <td>KITSAP</td>\n",
       "      <td>WA</td>\n",
       "      <td>HARPER</td>\n",
       "      <td>53035</td>\n",
       "      <td>Harper</td>\n",
       "      <td>HARPER, WA</td>\n",
       "    </tr>\n",
       "  </tbody>\n",
       "</table>\n",
       "</div>"
      ],
      "text/plain": [
       "  WORKSITE_CNTY WORKSITE_STATE   WORKSITE_CITY  county_fips      city_ascii  \\\n",
       "0        PIERCE             WA   PRAIRIE RIDGE        53053   Prairie Ridge   \n",
       "1        SKAGIT             WA          EDISON        53057          Edison   \n",
       "2         LEWIS             WA        PACKWOOD        53041        Packwood   \n",
       "3        KITSAP             WA  WAUTAUGA BEACH        53035  Wautauga Beach   \n",
       "4        KITSAP             WA          HARPER        53035          Harper   \n",
       "\n",
       "   WORKSITE_CITYSTATE  \n",
       "0   PRAIRIE RIDGE, WA  \n",
       "1          EDISON, WA  \n",
       "2        PACKWOOD, WA  \n",
       "3  WAUTAUGA BEACH, WA  \n",
       "4          HARPER, WA  "
      ]
     },
     "execution_count": 417,
     "metadata": {},
     "output_type": "execute_result"
    }
   ],
   "source": [
    "#tinynozip.head()"
   ]
  },
  {
   "cell_type": "code",
   "execution_count": 340,
   "metadata": {},
   "outputs": [],
   "source": [
    "## WHEN WORKSITE ZIPCODE NOT AVAILABLE \n",
    "vdataewm = pd.merge(vdataem, tinynozip, how = 'left', on=['WORKSITE_CITY', 'WORKSITE_STATE'], validate=\"m:m\")\n",
    "vdatafull = vdataewm.rename(columns = {'county': 'WORK_CNTY'})\n"
   ]
  },
  {
   "cell_type": "code",
   "execution_count": 357,
   "metadata": {
    "scrolled": true
   },
   "outputs": [],
   "source": [
    "#nonmatches = vdatafull[vdatafull['WORKSITE_CNTY'].isnull()]"
   ]
  },
  {
   "cell_type": "code",
   "execution_count": 356,
   "metadata": {},
   "outputs": [],
   "source": [
    "#import requests \n",
    "#import json"
   ]
  },
  {
   "cell_type": "code",
   "execution_count": 363,
   "metadata": {},
   "outputs": [
    {
     "data": {
      "text/html": [
       "<div>\n",
       "<style scoped>\n",
       "    .dataframe tbody tr th:only-of-type {\n",
       "        vertical-align: middle;\n",
       "    }\n",
       "\n",
       "    .dataframe tbody tr th {\n",
       "        vertical-align: top;\n",
       "    }\n",
       "\n",
       "    .dataframe thead th {\n",
       "        text-align: right;\n",
       "    }\n",
       "</style>\n",
       "<table border=\"1\" class=\"dataframe\">\n",
       "  <thead>\n",
       "    <tr style=\"text-align: right;\">\n",
       "      <th></th>\n",
       "      <th>CASE_NUMBER</th>\n",
       "      <th>CASE_STATUS</th>\n",
       "      <th>VISA_CLASS</th>\n",
       "      <th>EMPLOYER_POSTAL_CODE</th>\n",
       "      <th>NAICS4</th>\n",
       "      <th>TOTAL_WORKERS</th>\n",
       "      <th>WORKSITE_CITY</th>\n",
       "      <th>WORKSITE_STATE</th>\n",
       "      <th>WAGE</th>\n",
       "      <th>PAYUNIT</th>\n",
       "      <th>EMP_ZIP</th>\n",
       "      <th>EMP_CNTY</th>\n",
       "      <th>WORKSITE_CNTY</th>\n",
       "      <th>county_fips</th>\n",
       "      <th>city_ascii</th>\n",
       "      <th>citystate</th>\n",
       "    </tr>\n",
       "  </thead>\n",
       "  <tbody>\n",
       "    <tr>\n",
       "      <th>5</th>\n",
       "      <td>I-200-09182-550211</td>\n",
       "      <td>DENIED</td>\n",
       "      <td>H-1B</td>\n",
       "      <td>55802</td>\n",
       "      <td>5413</td>\n",
       "      <td>1.0</td>\n",
       "      <td>FARG</td>\n",
       "      <td>WI</td>\n",
       "      <td>50000.0</td>\n",
       "      <td>Year</td>\n",
       "      <td>55802</td>\n",
       "      <td>27137</td>\n",
       "      <td>NaN</td>\n",
       "      <td>NaN</td>\n",
       "      <td>NaN</td>\n",
       "      <td>FARG, WI</td>\n",
       "    </tr>\n",
       "    <tr>\n",
       "      <th>17</th>\n",
       "      <td>I-200-09216-104957</td>\n",
       "      <td>WITHDRAWN</td>\n",
       "      <td>H-1B</td>\n",
       "      <td>08816</td>\n",
       "      <td>4242</td>\n",
       "      <td>1.0</td>\n",
       "      <td>EAST BRUNSWICK</td>\n",
       "      <td>NJ</td>\n",
       "      <td>53000.0</td>\n",
       "      <td>Year</td>\n",
       "      <td>08816</td>\n",
       "      <td>34023</td>\n",
       "      <td>NaN</td>\n",
       "      <td>NaN</td>\n",
       "      <td>NaN</td>\n",
       "      <td>EAST BRUNSWICK, NJ</td>\n",
       "    </tr>\n",
       "    <tr>\n",
       "      <th>21</th>\n",
       "      <td>I-200-09230-596710</td>\n",
       "      <td>CERTIFIED</td>\n",
       "      <td>H-1B</td>\n",
       "      <td>22031-4666</td>\n",
       "      <td>5413</td>\n",
       "      <td>1.0</td>\n",
       "      <td>BLOOMFIELD</td>\n",
       "      <td>NJ</td>\n",
       "      <td>78083.2</td>\n",
       "      <td>Year</td>\n",
       "      <td>NaN</td>\n",
       "      <td>NaN</td>\n",
       "      <td>NaN</td>\n",
       "      <td>NaN</td>\n",
       "      <td>NaN</td>\n",
       "      <td>BLOOMFIELD, NJ</td>\n",
       "    </tr>\n",
       "    <tr>\n",
       "      <th>45</th>\n",
       "      <td>I-200-09288-856378</td>\n",
       "      <td>CERTIFIED</td>\n",
       "      <td>H-1B</td>\n",
       "      <td>01720</td>\n",
       "      <td>5415</td>\n",
       "      <td>1.0</td>\n",
       "      <td>BEDFORD</td>\n",
       "      <td>MA</td>\n",
       "      <td>113983.5</td>\n",
       "      <td>Year</td>\n",
       "      <td>01720</td>\n",
       "      <td>25017</td>\n",
       "      <td>NaN</td>\n",
       "      <td>NaN</td>\n",
       "      <td>NaN</td>\n",
       "      <td>BEDFORD, MA</td>\n",
       "    </tr>\n",
       "    <tr>\n",
       "      <th>51</th>\n",
       "      <td>I-200-09306-261972</td>\n",
       "      <td>CERTIFIED</td>\n",
       "      <td>H-1B</td>\n",
       "      <td>08837</td>\n",
       "      <td>5415</td>\n",
       "      <td>1.0</td>\n",
       "      <td>ST. LOUIS</td>\n",
       "      <td>MO</td>\n",
       "      <td>48464.0</td>\n",
       "      <td>Year</td>\n",
       "      <td>08837</td>\n",
       "      <td>34023</td>\n",
       "      <td>NaN</td>\n",
       "      <td>NaN</td>\n",
       "      <td>NaN</td>\n",
       "      <td>ST. LOUIS, MO</td>\n",
       "    </tr>\n",
       "  </tbody>\n",
       "</table>\n",
       "</div>"
      ],
      "text/plain": [
       "           CASE_NUMBER CASE_STATUS VISA_CLASS EMPLOYER_POSTAL_CODE NAICS4  \\\n",
       "5   I-200-09182-550211      DENIED       H-1B                55802   5413   \n",
       "17  I-200-09216-104957   WITHDRAWN       H-1B                08816   4242   \n",
       "21  I-200-09230-596710   CERTIFIED       H-1B           22031-4666   5413   \n",
       "45  I-200-09288-856378   CERTIFIED       H-1B                01720   5415   \n",
       "51  I-200-09306-261972   CERTIFIED       H-1B                08837   5415   \n",
       "\n",
       "    TOTAL_WORKERS   WORKSITE_CITY WORKSITE_STATE      WAGE PAYUNIT EMP_ZIP  \\\n",
       "5             1.0            FARG             WI   50000.0    Year   55802   \n",
       "17            1.0  EAST BRUNSWICK             NJ   53000.0    Year   08816   \n",
       "21            1.0      BLOOMFIELD             NJ   78083.2    Year     NaN   \n",
       "45            1.0         BEDFORD             MA  113983.5    Year   01720   \n",
       "51            1.0       ST. LOUIS             MO   48464.0    Year   08837   \n",
       "\n",
       "   EMP_CNTY WORKSITE_CNTY  county_fips city_ascii           citystate  \n",
       "5     27137           NaN          NaN        NaN            FARG, WI  \n",
       "17    34023           NaN          NaN        NaN  EAST BRUNSWICK, NJ  \n",
       "21      NaN           NaN          NaN        NaN      BLOOMFIELD, NJ  \n",
       "45    25017           NaN          NaN        NaN         BEDFORD, MA  \n",
       "51    34023           NaN          NaN        NaN       ST. LOUIS, MO  "
      ]
     },
     "execution_count": 363,
     "metadata": {},
     "output_type": "execute_result"
    }
   ],
   "source": [
    "#nonmatches['citystate'] = nonmatches['WORKSITE_CITY'] + ', ' + nonmatches['WORKSITE_STATE']\n",
    "#nonmatches.head()"
   ]
  },
  {
   "cell_type": "code",
   "execution_count": 364,
   "metadata": {},
   "outputs": [],
   "source": [
    "#city_data_url = 'http://api.sba.gov/geodata/primary_links_for_city_of/%s/%s.json'"
   ]
  },
  {
   "cell_type": "code",
   "execution_count": 412,
   "metadata": {},
   "outputs": [],
   "source": [
    "import difflib"
   ]
  },
  {
   "cell_type": "code",
   "execution_count": 413,
   "metadata": {},
   "outputs": [
    {
     "data": {
      "text/plain": [
       "<function difflib.get_close_matches>"
      ]
     },
     "execution_count": 413,
     "metadata": {},
     "output_type": "execute_result"
    }
   ],
   "source": [
    "difflib.get_close_matches"
   ]
  },
  {
   "cell_type": "code",
   "execution_count": 372,
   "metadata": {},
   "outputs": [
    {
     "data": {
      "text/html": [
       "<div>\n",
       "<style scoped>\n",
       "    .dataframe tbody tr th:only-of-type {\n",
       "        vertical-align: middle;\n",
       "    }\n",
       "\n",
       "    .dataframe tbody tr th {\n",
       "        vertical-align: top;\n",
       "    }\n",
       "\n",
       "    .dataframe thead th {\n",
       "        text-align: right;\n",
       "    }\n",
       "</style>\n",
       "<table border=\"1\" class=\"dataframe\">\n",
       "  <thead>\n",
       "    <tr style=\"text-align: right;\">\n",
       "      <th></th>\n",
       "      <th>CASE_NUMBER</th>\n",
       "      <th>CASE_STATUS</th>\n",
       "      <th>VISA_CLASS</th>\n",
       "      <th>EMPLOYER_POSTAL_CODE</th>\n",
       "      <th>NAICS4</th>\n",
       "      <th>TOTAL_WORKERS</th>\n",
       "      <th>WORKSITE_CITY</th>\n",
       "      <th>WORKSITE_STATE</th>\n",
       "      <th>WAGE</th>\n",
       "      <th>PAYUNIT</th>\n",
       "      <th>EMP_ZIP</th>\n",
       "      <th>EMP_CNTY</th>\n",
       "      <th>WORKSITE_CNTY</th>\n",
       "      <th>county_fips</th>\n",
       "      <th>city_ascii</th>\n",
       "      <th>citystate</th>\n",
       "      <th>NEWCOUNTY_MATCH</th>\n",
       "    </tr>\n",
       "  </thead>\n",
       "  <tbody>\n",
       "    <tr>\n",
       "      <th>5</th>\n",
       "      <td>I-200-09182-550211</td>\n",
       "      <td>DENIED</td>\n",
       "      <td>H-1B</td>\n",
       "      <td>55802</td>\n",
       "      <td>5413</td>\n",
       "      <td>1.0</td>\n",
       "      <td>FARG</td>\n",
       "      <td>WI</td>\n",
       "      <td>50000.0</td>\n",
       "      <td>Year</td>\n",
       "      <td>55802</td>\n",
       "      <td>27137</td>\n",
       "      <td>NaN</td>\n",
       "      <td>NaN</td>\n",
       "      <td>NaN</td>\n",
       "      <td>FARG, WI</td>\n",
       "      <td>NaN</td>\n",
       "    </tr>\n",
       "    <tr>\n",
       "      <th>17</th>\n",
       "      <td>I-200-09216-104957</td>\n",
       "      <td>WITHDRAWN</td>\n",
       "      <td>H-1B</td>\n",
       "      <td>08816</td>\n",
       "      <td>4242</td>\n",
       "      <td>1.0</td>\n",
       "      <td>EAST BRUNSWICK</td>\n",
       "      <td>NJ</td>\n",
       "      <td>53000.0</td>\n",
       "      <td>Year</td>\n",
       "      <td>08816</td>\n",
       "      <td>34023</td>\n",
       "      <td>NaN</td>\n",
       "      <td>NaN</td>\n",
       "      <td>NaN</td>\n",
       "      <td>EAST BRUNSWICK, NJ</td>\n",
       "      <td>NaN</td>\n",
       "    </tr>\n",
       "    <tr>\n",
       "      <th>21</th>\n",
       "      <td>I-200-09230-596710</td>\n",
       "      <td>CERTIFIED</td>\n",
       "      <td>H-1B</td>\n",
       "      <td>22031-4666</td>\n",
       "      <td>5413</td>\n",
       "      <td>1.0</td>\n",
       "      <td>BLOOMFIELD</td>\n",
       "      <td>NJ</td>\n",
       "      <td>78083.2</td>\n",
       "      <td>Year</td>\n",
       "      <td>NaN</td>\n",
       "      <td>NaN</td>\n",
       "      <td>NaN</td>\n",
       "      <td>NaN</td>\n",
       "      <td>NaN</td>\n",
       "      <td>BLOOMFIELD, NJ</td>\n",
       "      <td>NaN</td>\n",
       "    </tr>\n",
       "    <tr>\n",
       "      <th>45</th>\n",
       "      <td>I-200-09288-856378</td>\n",
       "      <td>CERTIFIED</td>\n",
       "      <td>H-1B</td>\n",
       "      <td>01720</td>\n",
       "      <td>5415</td>\n",
       "      <td>1.0</td>\n",
       "      <td>BEDFORD</td>\n",
       "      <td>MA</td>\n",
       "      <td>113983.5</td>\n",
       "      <td>Year</td>\n",
       "      <td>01720</td>\n",
       "      <td>25017</td>\n",
       "      <td>NaN</td>\n",
       "      <td>NaN</td>\n",
       "      <td>NaN</td>\n",
       "      <td>BEDFORD, MA</td>\n",
       "      <td>NaN</td>\n",
       "    </tr>\n",
       "    <tr>\n",
       "      <th>51</th>\n",
       "      <td>I-200-09306-261972</td>\n",
       "      <td>CERTIFIED</td>\n",
       "      <td>H-1B</td>\n",
       "      <td>08837</td>\n",
       "      <td>5415</td>\n",
       "      <td>1.0</td>\n",
       "      <td>ST. LOUIS</td>\n",
       "      <td>MO</td>\n",
       "      <td>48464.0</td>\n",
       "      <td>Year</td>\n",
       "      <td>08837</td>\n",
       "      <td>34023</td>\n",
       "      <td>NaN</td>\n",
       "      <td>NaN</td>\n",
       "      <td>NaN</td>\n",
       "      <td>ST. LOUIS, MO</td>\n",
       "      <td>NaN</td>\n",
       "    </tr>\n",
       "  </tbody>\n",
       "</table>\n",
       "</div>"
      ],
      "text/plain": [
       "           CASE_NUMBER CASE_STATUS VISA_CLASS EMPLOYER_POSTAL_CODE NAICS4  \\\n",
       "5   I-200-09182-550211      DENIED       H-1B                55802   5413   \n",
       "17  I-200-09216-104957   WITHDRAWN       H-1B                08816   4242   \n",
       "21  I-200-09230-596710   CERTIFIED       H-1B           22031-4666   5413   \n",
       "45  I-200-09288-856378   CERTIFIED       H-1B                01720   5415   \n",
       "51  I-200-09306-261972   CERTIFIED       H-1B                08837   5415   \n",
       "\n",
       "    TOTAL_WORKERS   WORKSITE_CITY WORKSITE_STATE      WAGE PAYUNIT EMP_ZIP  \\\n",
       "5             1.0            FARG             WI   50000.0    Year   55802   \n",
       "17            1.0  EAST BRUNSWICK             NJ   53000.0    Year   08816   \n",
       "21            1.0      BLOOMFIELD             NJ   78083.2    Year     NaN   \n",
       "45            1.0         BEDFORD             MA  113983.5    Year   01720   \n",
       "51            1.0       ST. LOUIS             MO   48464.0    Year   08837   \n",
       "\n",
       "   EMP_CNTY WORKSITE_CNTY  county_fips city_ascii           citystate  \\\n",
       "5     27137           NaN          NaN        NaN            FARG, WI   \n",
       "17    34023           NaN          NaN        NaN  EAST BRUNSWICK, NJ   \n",
       "21      NaN           NaN          NaN        NaN      BLOOMFIELD, NJ   \n",
       "45    25017           NaN          NaN        NaN         BEDFORD, MA   \n",
       "51    34023           NaN          NaN        NaN       ST. LOUIS, MO   \n",
       "\n",
       "   NEWCOUNTY_MATCH  \n",
       "5              NaN  \n",
       "17             NaN  \n",
       "21             NaN  \n",
       "45             NaN  \n",
       "51             NaN  "
      ]
     },
     "execution_count": 372,
     "metadata": {},
     "output_type": "execute_result"
    }
   ],
   "source": [
    "nonmatches.head()"
   ]
  },
  {
   "cell_type": "code",
   "execution_count": 322,
   "metadata": {},
   "outputs": [
    {
     "data": {
      "text/plain": [
       "0         NaN\n",
       "1         NaN\n",
       "2         NaN\n",
       "3         NaN\n",
       "4         NaN\n",
       "5         NaN\n",
       "6         NaN\n",
       "7         NaN\n",
       "8         NaN\n",
       "9         NaN\n",
       "10        NaN\n",
       "11        NaN\n",
       "12        NaN\n",
       "13        NaN\n",
       "14        NaN\n",
       "15        NaN\n",
       "16        NaN\n",
       "17        NaN\n",
       "18        NaN\n",
       "19        NaN\n",
       "20        NaN\n",
       "21        NaN\n",
       "22        NaN\n",
       "23        NaN\n",
       "24        NaN\n",
       "25        NaN\n",
       "26        NaN\n",
       "27        NaN\n",
       "28        NaN\n",
       "29        NaN\n",
       "         ... \n",
       "632275    NaN\n",
       "632276    NaN\n",
       "632277    NaN\n",
       "632278    NaN\n",
       "632279    NaN\n",
       "632280    NaN\n",
       "632281    NaN\n",
       "632282    NaN\n",
       "632283    NaN\n",
       "632284    NaN\n",
       "632285    NaN\n",
       "632286    NaN\n",
       "632287    NaN\n",
       "632288    NaN\n",
       "632289    NaN\n",
       "632290    NaN\n",
       "632291    NaN\n",
       "632292    NaN\n",
       "632293    NaN\n",
       "632294    NaN\n",
       "632295    NaN\n",
       "632296    NaN\n",
       "632297    NaN\n",
       "632298    NaN\n",
       "632299    NaN\n",
       "632300    NaN\n",
       "632301    NaN\n",
       "632302    NaN\n",
       "632303    NaN\n",
       "632304    NaN\n",
       "Name: WORKSITE_CNTY, Length: 632305, dtype: object"
      ]
     },
     "execution_count": 322,
     "metadata": {},
     "output_type": "execute_result"
    }
   ],
   "source": [
    "###START HERE; import county fips lookup table and assign fips code instead of using the county names\n",
    "###\n",
    "###\n",
    "###\n",
    "vdatafull['WORKSITE_CNTY']\n"
   ]
  },
  {
   "cell_type": "code",
   "execution_count": 290,
   "metadata": {},
   "outputs": [],
   "source": [
    "#normaling wages \n",
    "#visa17all['PW_UNIT_OF_PAY'].unique() \n",
    "# [Year, Hour, Month, NaN, Week, Bi-Weekly]\n",
    "# hourly: x40 x52\n",
    "# Month: x12\n",
    "# Week: x52\n",
    "# Bi-Weekly: x26\n",
    "vdatafull.loc[(vdatafull['PAYUNIT'] =='Year'),'YrSalary'] = vdatafull['WAGE']"
   ]
  },
  {
   "cell_type": "code",
   "execution_count": 291,
   "metadata": {},
   "outputs": [],
   "source": [
    "vdatafull.loc[(vdatafull['PAYUNIT'] =='Hour'),'YrSalary'] = vdatafull['WAGE']*40*52"
   ]
  },
  {
   "cell_type": "code",
   "execution_count": 292,
   "metadata": {},
   "outputs": [],
   "source": [
    "vdatafull.loc[(vdatafull['PAYUNIT'] =='Week'),'YrSalary'] = vdatafull['WAGE']*52"
   ]
  },
  {
   "cell_type": "code",
   "execution_count": 293,
   "metadata": {},
   "outputs": [],
   "source": [
    "vdatafull.loc[(vdatafull['PAYUNIT'] =='Bi-Weekly'),'YrSalary'] = vdatafull['WAGE']*26"
   ]
  },
  {
   "cell_type": "code",
   "execution_count": 294,
   "metadata": {
    "scrolled": true
   },
   "outputs": [
    {
     "data": {
      "text/plain": [
       "CASE_NUMBER               object\n",
       "CASE_STATUS             category\n",
       "VISA_CLASS              category\n",
       "EMPLOYER_POSTAL_CODE      object\n",
       "NAICS4                    object\n",
       "TOTAL_WORKERS            float64\n",
       "WORKSITE_CITY             object\n",
       "WORKSITE_STATE            object\n",
       "WAGE                     float64\n",
       "PAYUNIT                 category\n",
       "EMP_ZIP                   object\n",
       "EMP_CNTY                  object\n",
       "zip_code                 float64\n",
       "latitude                 float64\n",
       "longitude                float64\n",
       "city                      object\n",
       "state                     object\n",
       "WORK_CNTY                 object\n",
       "YrSalary                 float64\n",
       "dtype: object"
      ]
     },
     "execution_count": 294,
     "metadata": {},
     "output_type": "execute_result"
    }
   ],
   "source": [
    "vdatafull.dtypes"
   ]
  },
  {
   "cell_type": "code",
   "execution_count": 295,
   "metadata": {},
   "outputs": [],
   "source": [
    "vdatafull.loc[(vdatafull['CASE_STATUS'] =='DENIED'), 'RESULT'] = 'DENIED'\n",
    "vdatafull.loc[(vdatafull['CASE_STATUS'] =='CERTIFIED'), 'RESULT'] = 'CERTIFIED'\n",
    "vdatafull.loc[(vdatafull['CASE_STATUS'] =='CERTIFIED-WITHDRAWN'), 'RESULT'] = 'CERTIFIED'\n",
    "vdatafull.loc[(vdatafull['CASE_STATUS'] =='WITHDRAWN'), 'RESULT'] = 'DROP'"
   ]
  },
  {
   "cell_type": "code",
   "execution_count": 296,
   "metadata": {},
   "outputs": [],
   "source": [
    "vdatafull = vdatafull[vdatafull['RESULT'] != 'DROP']"
   ]
  },
  {
   "cell_type": "code",
   "execution_count": 297,
   "metadata": {},
   "outputs": [],
   "source": [
    "h1bbyEmpCounty = vdatafull.groupby(['EMP_CNTY','RESULT']).agg({'TOTAL_WORKERS': np.sum,'YrSalary': [np.sum, np.mean], 'NAICS4': (lambda x: x.value_counts().index[0])})\n",
    "#PREVAILING_WAGE, PW_UNITS_OF_PAY"
   ]
  },
  {
   "cell_type": "code",
   "execution_count": null,
   "metadata": {},
   "outputs": [],
   "source": [
    "$$$$$$$"
   ]
  },
  {
   "cell_type": "code",
   "execution_count": 229,
   "metadata": {},
   "outputs": [],
   "source": [
    "h1bbyWorkCounty = vdatafull.groupby(['WORK_CNTY','RESULT']).agg({'TOTAL_WORKERS': np.sum,'YrSalary': [np.sum, np.mean], 'NAICS4': (lambda x: x.value_counts().index[0])})"
   ]
  },
  {
   "cell_type": "code",
   "execution_count": 230,
   "metadata": {},
   "outputs": [],
   "source": [
    "h1bbyWorkCounty.columns = [\"_\".join(x) for x in h1bbyWorkCounty.columns.ravel()]\n",
    "h1bbyEmpCounty.columns = [\"_\".join(x) for x in h1bbyEmpCounty.columns.ravel()]"
   ]
  },
  {
   "cell_type": "code",
   "execution_count": 231,
   "metadata": {},
   "outputs": [],
   "source": [
    "h1bbyWorkCounty = h1bbyWorkCounty.rename(columns = {'TOTAL_WORKERS_sum' : 'tot_workers', 'YrSalary_sum': 'all_salary', 'YrSalary_mean': 'avg_salary', 'NAICS4_<lambda>': 'naics4'})\n",
    "h1bbyEmpCounty = h1bbyEmpCounty.rename(columns = {'TOTAL_WORKERS_sum' : 'tot_workers', 'YrSalary_sum': 'all_salary', 'YrSalary_mean': 'avg_salary', 'NAICS4_<lambda>': 'naics4'})"
   ]
  },
  {
   "cell_type": "code",
   "execution_count": 232,
   "metadata": {},
   "outputs": [],
   "source": [
    "h1bbyWorkCounty['index'] = h1bbyWorkCounty.index\n",
    "h1bbyEmpCounty['index'] = h1bbyEmpCounty.index"
   ]
  },
  {
   "cell_type": "code",
   "execution_count": 233,
   "metadata": {},
   "outputs": [],
   "source": [
    "h1bbyWorkCounty['cfips'] = h1bbyWorkCounty['index'].apply(lambda x: x[0])\n",
    "h1bbyWorkCounty['result'] = h1bbyWorkCounty['index'].apply(lambda x: x[1])"
   ]
  },
  {
   "cell_type": "code",
   "execution_count": 234,
   "metadata": {},
   "outputs": [],
   "source": [
    "h1bbyEmpCounty['cfips'] = h1bbyEmpCounty['index'].apply(lambda x: x[0])\n",
    "h1bbyEmpCounty['result'] = h1bbyEmpCounty['index'].apply(lambda x: x[1])"
   ]
  },
  {
   "cell_type": "code",
   "execution_count": 235,
   "metadata": {},
   "outputs": [],
   "source": [
    "#list(h1bbyWorkCounty) \n",
    "#h1bbyWorkCounty['agg_salary'].apply(np.floor)"
   ]
  },
  {
   "cell_type": "code",
   "execution_count": 236,
   "metadata": {},
   "outputs": [],
   "source": [
    "h1bbyWorkCounty['avg_salary'] = h1bbyWorkCounty['avg_salary'].apply(np.floor)\n",
    "h1bbyEmpCounty['avg_salary'] = h1bbyEmpCounty['avg_salary'].apply(np.floor)"
   ]
  },
  {
   "cell_type": "code",
   "execution_count": 237,
   "metadata": {},
   "outputs": [],
   "source": [
    "h1bbyWorkCounty['all_salary'] = h1bbyWorkCounty['all_salary'].apply(np.floor)\n",
    "h1bbyEmpCounty['all_salary'] = h1bbyEmpCounty['all_salary'].apply(np.floor)"
   ]
  },
  {
   "cell_type": "code",
   "execution_count": 238,
   "metadata": {},
   "outputs": [],
   "source": [
    "h1bbyWorkCounty = h1bbyWorkCounty[['cfips','result','tot_workers',\n",
    " 'all_salary','avg_salary', 'naics4']]\n",
    "h1bbyEmpCounty = h1bbyEmpCounty[['cfips','result','tot_workers',\n",
    " 'all_salary','avg_salary', 'naics4']]"
   ]
  },
  {
   "cell_type": "code",
   "execution_count": 239,
   "metadata": {
    "scrolled": true
   },
   "outputs": [
    {
     "data": {
      "text/html": [
       "<div>\n",
       "<style scoped>\n",
       "    .dataframe tbody tr th:only-of-type {\n",
       "        vertical-align: middle;\n",
       "    }\n",
       "\n",
       "    .dataframe tbody tr th {\n",
       "        vertical-align: top;\n",
       "    }\n",
       "\n",
       "    .dataframe thead th {\n",
       "        text-align: right;\n",
       "    }\n",
       "</style>\n",
       "<table border=\"1\" class=\"dataframe\">\n",
       "  <thead>\n",
       "    <tr style=\"text-align: right;\">\n",
       "      <th></th>\n",
       "      <th></th>\n",
       "      <th>cfips</th>\n",
       "      <th>result</th>\n",
       "      <th>tot_workers</th>\n",
       "      <th>all_salary</th>\n",
       "      <th>avg_salary</th>\n",
       "      <th>naics4</th>\n",
       "    </tr>\n",
       "    <tr>\n",
       "      <th>WORK_CNTY</th>\n",
       "      <th>RESULT</th>\n",
       "      <th></th>\n",
       "      <th></th>\n",
       "      <th></th>\n",
       "      <th></th>\n",
       "      <th></th>\n",
       "      <th></th>\n",
       "    </tr>\n",
       "  </thead>\n",
       "  <tbody>\n",
       "    <tr>\n",
       "      <th>01001</th>\n",
       "      <th>CERTIFIED</th>\n",
       "      <td>01001</td>\n",
       "      <td>CERTIFIED</td>\n",
       "      <td>20.0</td>\n",
       "      <td>1839564.0</td>\n",
       "      <td>91978.0</td>\n",
       "      <td>6211</td>\n",
       "    </tr>\n",
       "    <tr>\n",
       "      <th>01003</th>\n",
       "      <th>CERTIFIED</th>\n",
       "      <td>01003</td>\n",
       "      <td>CERTIFIED</td>\n",
       "      <td>11.0</td>\n",
       "      <td>389152.0</td>\n",
       "      <td>55593.0</td>\n",
       "      <td>5415</td>\n",
       "    </tr>\n",
       "    <tr>\n",
       "      <th>01005</th>\n",
       "      <th>CERTIFIED</th>\n",
       "      <td>01005</td>\n",
       "      <td>CERTIFIED</td>\n",
       "      <td>3.0</td>\n",
       "      <td>351664.0</td>\n",
       "      <td>117221.0</td>\n",
       "      <td>3399</td>\n",
       "    </tr>\n",
       "    <tr>\n",
       "      <th>01007</th>\n",
       "      <th>CERTIFIED</th>\n",
       "      <td>01007</td>\n",
       "      <td>CERTIFIED</td>\n",
       "      <td>14.0</td>\n",
       "      <td>1021068.0</td>\n",
       "      <td>72933.0</td>\n",
       "      <td>3371</td>\n",
       "    </tr>\n",
       "    <tr>\n",
       "      <th>01009</th>\n",
       "      <th>CERTIFIED</th>\n",
       "      <td>01009</td>\n",
       "      <td>CERTIFIED</td>\n",
       "      <td>53.0</td>\n",
       "      <td>1097750.0</td>\n",
       "      <td>64573.0</td>\n",
       "      <td>5415</td>\n",
       "    </tr>\n",
       "  </tbody>\n",
       "</table>\n",
       "</div>"
      ],
      "text/plain": [
       "                     cfips     result  tot_workers  all_salary  avg_salary  \\\n",
       "WORK_CNTY RESULT                                                             \n",
       "01001     CERTIFIED  01001  CERTIFIED         20.0   1839564.0     91978.0   \n",
       "01003     CERTIFIED  01003  CERTIFIED         11.0    389152.0     55593.0   \n",
       "01005     CERTIFIED  01005  CERTIFIED          3.0    351664.0    117221.0   \n",
       "01007     CERTIFIED  01007  CERTIFIED         14.0   1021068.0     72933.0   \n",
       "01009     CERTIFIED  01009  CERTIFIED         53.0   1097750.0     64573.0   \n",
       "\n",
       "                    naics4  \n",
       "WORK_CNTY RESULT            \n",
       "01001     CERTIFIED   6211  \n",
       "01003     CERTIFIED   5415  \n",
       "01005     CERTIFIED   3399  \n",
       "01007     CERTIFIED   3371  \n",
       "01009     CERTIFIED   5415  "
      ]
     },
     "execution_count": 239,
     "metadata": {},
     "output_type": "execute_result"
    }
   ],
   "source": [
    "h1bbyWorkCounty.head()"
   ]
  },
  {
   "cell_type": "code",
   "execution_count": 240,
   "metadata": {},
   "outputs": [],
   "source": [
    "h1bbyWorkCounty.to_json('../prepped/h1b14Work.json', orient='records')\n",
    "\n",
    "# ../prepped/h1b17Work.json DONE\n",
    "# ../prepped/h1b16Work.json DONE\n",
    "# ../prepped/h1b15Work.json DONE\n",
    "# ../prepped/h1b14Work.json\n",
    "# ../prepped/h1b13Work.json\n",
    "# ../prepped/h1b12Work.json\n",
    "# ../prepped/h1b11Work.json\n",
    "# ../prepped/h1b10Work.json\n",
    "# ../prepped/h1b09Work.json\n",
    "# ../prepped/h1b08Work.json"
   ]
  },
  {
   "cell_type": "code",
   "execution_count": 241,
   "metadata": {},
   "outputs": [],
   "source": [
    "h1bbyEmpCounty.to_json('../prepped/h1b14Emp.json', orient='records')\n",
    "\n",
    "# ../prepped/h1b17Emp.json DONE\n",
    "# ../prepped/h1b16Emp.json DONE\n",
    "# ../prepped/h1b15Emp.json DONE\n",
    "# ../prepped/h1b14Emp.json\n",
    "# ../prepped/h1b13Emp.json\n",
    "# ../prepped/h1b12Emp.json\n",
    "# ../prepped/h1b11Emp.json\n",
    "# ../prepped/h1b10Emp.json\n",
    "# ../prepped/h1b09Emp.json\n",
    "# ../prepped/h1b08Emp.json"
   ]
  },
  {
   "cell_type": "code",
   "execution_count": null,
   "metadata": {},
   "outputs": [],
   "source": []
  }
 ],
 "metadata": {
  "kernelspec": {
   "display_name": "Python 3",
   "language": "python",
   "name": "python3"
  },
  "language_info": {
   "codemirror_mode": {
    "name": "ipython",
    "version": 3
   },
   "file_extension": ".py",
   "mimetype": "text/x-python",
   "name": "python",
   "nbconvert_exporter": "python",
   "pygments_lexer": "ipython3",
   "version": "3.6.4"
  }
 },
 "nbformat": 4,
 "nbformat_minor": 2
}
